{
 "cells": [
  {
   "cell_type": "code",
   "execution_count": 1,
   "metadata": {},
   "outputs": [],
   "source": [
    "from main import main\n",
    "from neural_rk.hyperparameter import get_hp"
   ]
  },
  {
   "cell_type": "code",
   "execution_count": 2,
   "metadata": {},
   "outputs": [],
   "source": [
    "hp = get_hp(\n",
    "    [\n",
    "        # ----------------- Data -----------------\n",
    "        \"--equation=burgers\",\n",
    "        \"--data=IC\",\n",
    "        \"--noise=0.0000\",\n",
    "        \"--take_only=0.5\",\n",
    "        \"--window=1\",\n",
    "        # ------------------ NN ------------------\n",
    "        \"--rk=RK4\",\n",
    "        # \"--approximator_in_scaler=sincos\",\n",
    "        # \"--approximator_out_scaler=minmax\",\n",
    "        \"--approximator_state_embedding\", \"8\",\n",
    "        # \"--approximator_node_embedding\", \"32\",\n",
    "        \"--approximator_edge_embedding\", \"8\", \"8\",\n",
    "        \"--approximator_glob_embedding\", \"8\",\n",
    "        \"--approximator_edge_hidden=64\",\n",
    "        \"--approximator_node_hidden=64\",\n",
    "        # \"--approximator_dropout=0.0\",\n",
    "        # \"--approximator_bn_momentum=1.0\",\n",
    "        # ---------- Loss and Optimizer ----------\n",
    "        # \"--loss=MSE\",\n",
    "        # \"--optimizer=AdamW\",\n",
    "        # \"--weight_decay=0.0\",\n",
    "        # --------------- Schedular --------------\n",
    "        \"--scheduler_name=step\",\n",
    "        \"--scheduler_lr=1e-4\",\n",
    "        \"--scheduler_lr_max=4e-3\",\n",
    "        \"--scheduler_lr_max_mult=0.5\",\n",
    "        \"--scheduler_period=20\",\n",
    "        \"--scheduler_period_mult=1.5\",\n",
    "        \"--scheduler_warmup=0\",\n",
    "        # -------------- Early Stop --------------\n",
    "        # \"--earlystop_patience=60\",\n",
    "        # \"--earlystop_delta=0.0\",\n",
    "        # ------------ Train config --------------\n",
    "        # \"--resume=pu5otomn\",\n",
    "        \"--device\", \"0\", \"1\", \"2\", \"3\",\n",
    "        # \"--device\", \"0\",\n",
    "        # \"--seed=0\",\n",
    "        # \"--port=3184\",\n",
    "        \"--epochs=162\",\n",
    "        \"--batch_size=32\",\n",
    "        # \"--rollout_batch_size=16\",\n",
    "        \"--tqdm\",\n",
    "        # \"--wandb\",\n",
    "        \"--amp\",\n",
    "    ]\n",
    ")\n"
   ]
  },
  {
   "cell_type": "code",
   "execution_count": 3,
   "metadata": {},
   "outputs": [
    {
     "name": "stdout",
     "output_type": "stream",
     "text": [
      "Reading data took 10.12120298900004 seconds\n",
      "Creating model took 1.9887816779998957 seconds\n",
      "Start running experiment burgers_df58a6t6\n",
      "Number of trainable parameters : 21538\n",
      "Number of train data: 100000          \n",
      "Number of validation data: 40000      \n",
      "Number of rollout data: 20            \n",
      "  0%|          | 0/10 [00:00<?, ?it/s]"
     ]
    },
    {
     "ename": "KeyboardInterrupt",
     "evalue": "",
     "output_type": "error",
     "traceback": [
      "\u001b[0;31m---------------------------------------------------------------------------\u001b[0m",
      "\u001b[0;31mKeyboardInterrupt\u001b[0m                         Traceback (most recent call last)",
      "\u001b[1;32m/pds/pds11/hoyun/neural_rk/main.ipynb Cell 3\u001b[0m in \u001b[0;36m1\n\u001b[0;32m----> <a href='vscode-notebook-cell://ssh-remote%2Bgpu/pds/pds11/hoyun/neural_rk/main.ipynb#W3sdnNjb2RlLXJlbW90ZQ%3D%3D?line=0'>1</a>\u001b[0m main(hp, save\u001b[39m=\u001b[39;49m\u001b[39mTrue\u001b[39;49;00m)\n",
      "File \u001b[0;32m~/neural_rk/main.py:96\u001b[0m, in \u001b[0;36mmain\u001b[0;34m(hp, save)\u001b[0m\n\u001b[1;32m     93\u001b[0m     os\u001b[39m.\u001b[39menviron[\u001b[39m\"\u001b[39m\u001b[39mMASTER_ADDR\u001b[39m\u001b[39m\"\u001b[39m] \u001b[39m=\u001b[39m \u001b[39m\"\u001b[39m\u001b[39mlocalhost\u001b[39m\u001b[39m\"\u001b[39m\n\u001b[1;32m     94\u001b[0m     os\u001b[39m.\u001b[39menviron[\u001b[39m\"\u001b[39m\u001b[39mMASTER_PORT\u001b[39m\u001b[39m\"\u001b[39m] \u001b[39m=\u001b[39m \u001b[39mf\u001b[39m\u001b[39m\"\u001b[39m\u001b[39m{\u001b[39;00mhp\u001b[39m.\u001b[39mport\u001b[39m}\u001b[39;00m\u001b[39m\"\u001b[39m\n\u001b[0;32m---> 96\u001b[0m     mp\u001b[39m.\u001b[39;49mspawn(  \u001b[39m# type:ignore\u001b[39;49;00m\n\u001b[1;32m     97\u001b[0m         run,\n\u001b[1;32m     98\u001b[0m         args\u001b[39m=\u001b[39;49m(\n\u001b[1;32m     99\u001b[0m             hp,\n\u001b[1;32m    100\u001b[0m             approximator,\n\u001b[1;32m    101\u001b[0m             train_df,\n\u001b[1;32m    102\u001b[0m             val_df,\n\u001b[1;32m    103\u001b[0m             \u001b[39m# train_dataset,\u001b[39;49;00m\n\u001b[1;32m    104\u001b[0m             \u001b[39m# val_dataset,\u001b[39;49;00m\n\u001b[1;32m    105\u001b[0m             \u001b[39m# rollout_dataset,\u001b[39;49;00m\n\u001b[1;32m    106\u001b[0m             optimizer_state_dict,\n\u001b[1;32m    107\u001b[0m             grad_scaler_state_dict,\n\u001b[1;32m    108\u001b[0m             save,\n\u001b[1;32m    109\u001b[0m         ),\n\u001b[1;32m    110\u001b[0m         nprocs\u001b[39m=\u001b[39;49m\u001b[39mlen\u001b[39;49m(hp\u001b[39m.\u001b[39;49mdevice),\n\u001b[1;32m    111\u001b[0m         join\u001b[39m=\u001b[39;49m\u001b[39mTrue\u001b[39;49;00m,\n\u001b[1;32m    112\u001b[0m     )\n\u001b[1;32m    114\u001b[0m \u001b[39mprint\u001b[39m(\u001b[39mf\u001b[39m\u001b[39m\"\u001b[39m\u001b[39mTraining took \u001b[39m\u001b[39m{\u001b[39;00mtime\u001b[39m.\u001b[39mperf_counter()\u001b[39m-\u001b[39mstart\u001b[39m}\u001b[39;00m\u001b[39m seconds\u001b[39m\u001b[39m\"\u001b[39m)\n",
      "File \u001b[0;32m~/miniconda3/envs/gnn/lib/python3.10/site-packages/torch/multiprocessing/spawn.py:240\u001b[0m, in \u001b[0;36mspawn\u001b[0;34m(fn, args, nprocs, join, daemon, start_method)\u001b[0m\n\u001b[1;32m    236\u001b[0m     msg \u001b[39m=\u001b[39m (\u001b[39m'\u001b[39m\u001b[39mThis method only supports start_method=spawn (got: \u001b[39m\u001b[39m%s\u001b[39;00m\u001b[39m).\u001b[39m\u001b[39m\\n\u001b[39;00m\u001b[39m'\u001b[39m\n\u001b[1;32m    237\u001b[0m            \u001b[39m'\u001b[39m\u001b[39mTo use a different start_method use:\u001b[39m\u001b[39m\\n\u001b[39;00m\u001b[39m\\t\u001b[39;00m\u001b[39m\\t\u001b[39;00m\u001b[39m'\u001b[39m\n\u001b[1;32m    238\u001b[0m            \u001b[39m'\u001b[39m\u001b[39m torch.multiprocessing.start_processes(...)\u001b[39m\u001b[39m'\u001b[39m \u001b[39m%\u001b[39m start_method)\n\u001b[1;32m    239\u001b[0m     warnings\u001b[39m.\u001b[39mwarn(msg)\n\u001b[0;32m--> 240\u001b[0m \u001b[39mreturn\u001b[39;00m start_processes(fn, args, nprocs, join, daemon, start_method\u001b[39m=\u001b[39;49m\u001b[39m'\u001b[39;49m\u001b[39mspawn\u001b[39;49m\u001b[39m'\u001b[39;49m)\n",
      "File \u001b[0;32m~/miniconda3/envs/gnn/lib/python3.10/site-packages/torch/multiprocessing/spawn.py:198\u001b[0m, in \u001b[0;36mstart_processes\u001b[0;34m(fn, args, nprocs, join, daemon, start_method)\u001b[0m\n\u001b[1;32m    195\u001b[0m     \u001b[39mreturn\u001b[39;00m context\n\u001b[1;32m    197\u001b[0m \u001b[39m# Loop on join until it returns True or raises an exception.\u001b[39;00m\n\u001b[0;32m--> 198\u001b[0m \u001b[39mwhile\u001b[39;00m \u001b[39mnot\u001b[39;00m context\u001b[39m.\u001b[39;49mjoin():\n\u001b[1;32m    199\u001b[0m     \u001b[39mpass\u001b[39;00m\n",
      "File \u001b[0;32m~/miniconda3/envs/gnn/lib/python3.10/site-packages/torch/multiprocessing/spawn.py:109\u001b[0m, in \u001b[0;36mProcessContext.join\u001b[0;34m(self, timeout)\u001b[0m\n\u001b[1;32m    106\u001b[0m     \u001b[39mreturn\u001b[39;00m \u001b[39mTrue\u001b[39;00m\n\u001b[1;32m    108\u001b[0m \u001b[39m# Wait for any process to fail or all of them to succeed.\u001b[39;00m\n\u001b[0;32m--> 109\u001b[0m ready \u001b[39m=\u001b[39m multiprocessing\u001b[39m.\u001b[39;49mconnection\u001b[39m.\u001b[39;49mwait(\n\u001b[1;32m    110\u001b[0m     \u001b[39mself\u001b[39;49m\u001b[39m.\u001b[39;49msentinels\u001b[39m.\u001b[39;49mkeys(),\n\u001b[1;32m    111\u001b[0m     timeout\u001b[39m=\u001b[39;49mtimeout,\n\u001b[1;32m    112\u001b[0m )\n\u001b[1;32m    114\u001b[0m error_index \u001b[39m=\u001b[39m \u001b[39mNone\u001b[39;00m\n\u001b[1;32m    115\u001b[0m \u001b[39mfor\u001b[39;00m sentinel \u001b[39min\u001b[39;00m ready:\n",
      "File \u001b[0;32m~/miniconda3/envs/gnn/lib/python3.10/multiprocessing/connection.py:936\u001b[0m, in \u001b[0;36mwait\u001b[0;34m(object_list, timeout)\u001b[0m\n\u001b[1;32m    933\u001b[0m     deadline \u001b[39m=\u001b[39m time\u001b[39m.\u001b[39mmonotonic() \u001b[39m+\u001b[39m timeout\n\u001b[1;32m    935\u001b[0m \u001b[39mwhile\u001b[39;00m \u001b[39mTrue\u001b[39;00m:\n\u001b[0;32m--> 936\u001b[0m     ready \u001b[39m=\u001b[39m selector\u001b[39m.\u001b[39;49mselect(timeout)\n\u001b[1;32m    937\u001b[0m     \u001b[39mif\u001b[39;00m ready:\n\u001b[1;32m    938\u001b[0m         \u001b[39mreturn\u001b[39;00m [key\u001b[39m.\u001b[39mfileobj \u001b[39mfor\u001b[39;00m (key, events) \u001b[39min\u001b[39;00m ready]\n",
      "File \u001b[0;32m~/miniconda3/envs/gnn/lib/python3.10/selectors.py:416\u001b[0m, in \u001b[0;36m_PollLikeSelector.select\u001b[0;34m(self, timeout)\u001b[0m\n\u001b[1;32m    414\u001b[0m ready \u001b[39m=\u001b[39m []\n\u001b[1;32m    415\u001b[0m \u001b[39mtry\u001b[39;00m:\n\u001b[0;32m--> 416\u001b[0m     fd_event_list \u001b[39m=\u001b[39m \u001b[39mself\u001b[39;49m\u001b[39m.\u001b[39;49m_selector\u001b[39m.\u001b[39;49mpoll(timeout)\n\u001b[1;32m    417\u001b[0m \u001b[39mexcept\u001b[39;00m \u001b[39mInterruptedError\u001b[39;00m:\n\u001b[1;32m    418\u001b[0m     \u001b[39mreturn\u001b[39;00m ready\n",
      "\u001b[0;31mKeyboardInterrupt\u001b[0m: "
     ]
    }
   ],
   "source": [
    "main(hp, save=True)\n"
   ]
  },
  {
   "cell_type": "code",
   "execution_count": null,
   "metadata": {},
   "outputs": [],
   "source": []
  }
 ],
 "metadata": {
  "kernelspec": {
   "display_name": "gnn",
   "language": "python",
   "name": "python3"
  },
  "language_info": {
   "codemirror_mode": {
    "name": "ipython",
    "version": 3
   },
   "file_extension": ".py",
   "mimetype": "text/x-python",
   "name": "python",
   "nbconvert_exporter": "python",
   "pygments_lexer": "ipython3",
   "version": "3.10.6"
  },
  "orig_nbformat": 4
 },
 "nbformat": 4,
 "nbformat_minor": 2
}
